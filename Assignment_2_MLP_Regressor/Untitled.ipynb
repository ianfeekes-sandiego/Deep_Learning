{
 "cells": [
  {
   "cell_type": "markdown",
   "id": "33d8c5e8",
   "metadata": {},
   "source": [
    "It is important to keep track and save the dataset in a specific account (i.e. @sandiego.edu) as you will use the same process in modules 2-7. \n",
    "It is recommended that you organize your dataset files into specific folders, such as \"Module 2 Dataset.\"\n",
    "Prepare the dataset\n",
    "\n",
    "Create a new Google Colab Notebook and import housing.csv dataset into your notebook\n",
    "Click \"▶️ # Load the Drive helps and mount\" to run cell dataset.\n",
    "Go to this URL in a browser click \"URL\" displayed to grant access to your Google Drive and mount your drive. Authorize access to your Google Account.\n",
    "Copy code and paste into \"Enter your authorization code\" textbox area. \n",
    "\n",
    "\n",
    "Construct the Neural Network.\n",
    "Using the ANN in Practice as a resource, construct the Neural Network of Boston Housing data.\n",
    "Validate the accuracy of the model\n",
    "Your accuracy score (i.e. 0.858) should be displayed at the end of your prediction model.\n",
    "\n",
    "\n",
    "Summarize your findings\n",
    "In your own words state how accurate your model was against the test dataset. Your summary should be at least one paragraph in length, include an attached screenshot of your dataset results, and include your accuracy score and explanation."
   ]
  },
  {
   "cell_type": "markdown",
   "id": "c52e44bb",
   "metadata": {},
   "source": [
    "## Initial Configuration\n",
    "The below few cells will set up the libraries, global variables, and other necessary items before getting into exploratory analysis"
   ]
  },
  {
   "cell_type": "code",
   "execution_count": 99,
   "id": "c1cbbf2d",
   "metadata": {},
   "outputs": [],
   "source": [
    "# Import Libraries\n",
    "import pandas as pd                                   # Allows usage of data frames\n",
    "from sklearn.preprocessing import MinMaxScaler        # Allows use of minMaxScaler\n",
    "from matplotlib import pyplot as plt                  # Heatmap plots\n",
    "import seaborn as sns                                 # More plotting tools\n",
    "from sklearn.model_selection import train_test_split  # Train Test split the data\n",
    "from sklearn.neural_network import MLPRegressor       # To Train ANN, MLP regressor used\n",
    "from sklearn import metrics                           # Import the metrics class"
   ]
  },
  {
   "cell_type": "markdown",
   "id": "8320f39c",
   "metadata": {},
   "source": [
    "##### Global Variables\n",
    "The below cell allows for capturing global variables to be used throughout the assignment"
   ]
  },
  {
   "cell_type": "code",
   "execution_count": 100,
   "id": "e6208e2a",
   "metadata": {},
   "outputs": [],
   "source": [
    "# Global Variables\n",
    "dataFileName = \"housing.csv\" #@TODO he wants it saved to google drive rather than locally\n",
    "targetColumnName = 'MEDV'    # Name of the dependant variable\n",
    "testSize = .3                # Ratio of testing to training data"
   ]
  },
  {
   "cell_type": "markdown",
   "id": "5aeafac0",
   "metadata": {},
   "source": [
    "##### Reading the Boston Housing Data Frame\n",
    "The below cell locally imports the data frame and prevents continuation of the flow of execution if the data frame doesn't have rows or doesn't have columns."
   ]
  },
  {
   "cell_type": "code",
   "execution_count": 3,
   "id": "e0440865",
   "metadata": {},
   "outputs": [],
   "source": [
    "# Import the data file\n",
    "df = pd.read_csv(dataFileName)\n",
    "\n",
    "# Break if the data frame isn't properly imported\n",
    "assert(df.shape[0] > 0 and df.shape[1] > 0)"
   ]
  },
  {
   "cell_type": "markdown",
   "id": "7463a682",
   "metadata": {},
   "source": [
    "## Exploratory Analysis\n",
    "The below few cells will go over some light data exploration in order to determine the nuances and important characteristics of the data before creating a model."
   ]
  },
  {
   "cell_type": "markdown",
   "id": "802bb120",
   "metadata": {},
   "source": [
    "##### Describe Data Frame\n",
    "Here we are able to see the four columns all have 489 values. RM and PTRatio have fairly low standard deviations, whereas LSTAT and MEDV has a higher standard deviation. MEDV has much higher values between 100,000 and 1,000,000. "
   ]
  },
  {
   "cell_type": "code",
   "execution_count": 101,
   "id": "6c1c8633",
   "metadata": {},
   "outputs": [
    {
     "data": {
      "text/html": [
       "<div>\n",
       "<style scoped>\n",
       "    .dataframe tbody tr th:only-of-type {\n",
       "        vertical-align: middle;\n",
       "    }\n",
       "\n",
       "    .dataframe tbody tr th {\n",
       "        vertical-align: top;\n",
       "    }\n",
       "\n",
       "    .dataframe thead th {\n",
       "        text-align: right;\n",
       "    }\n",
       "</style>\n",
       "<table border=\"1\" class=\"dataframe\">\n",
       "  <thead>\n",
       "    <tr style=\"text-align: right;\">\n",
       "      <th></th>\n",
       "      <th>RM</th>\n",
       "      <th>LSTAT</th>\n",
       "      <th>PTRATIO</th>\n",
       "      <th>MEDV</th>\n",
       "    </tr>\n",
       "  </thead>\n",
       "  <tbody>\n",
       "    <tr>\n",
       "      <th>count</th>\n",
       "      <td>489.000000</td>\n",
       "      <td>489.000000</td>\n",
       "      <td>489.000000</td>\n",
       "      <td>489.000000</td>\n",
       "    </tr>\n",
       "    <tr>\n",
       "      <th>mean</th>\n",
       "      <td>0.553915</td>\n",
       "      <td>0.304519</td>\n",
       "      <td>0.629422</td>\n",
       "      <td>0.379803</td>\n",
       "    </tr>\n",
       "    <tr>\n",
       "      <th>std</th>\n",
       "      <td>0.133068</td>\n",
       "      <td>0.196777</td>\n",
       "      <td>0.224603</td>\n",
       "      <td>0.179757</td>\n",
       "    </tr>\n",
       "    <tr>\n",
       "      <th>min</th>\n",
       "      <td>0.000000</td>\n",
       "      <td>0.000000</td>\n",
       "      <td>0.000000</td>\n",
       "      <td>0.000000</td>\n",
       "    </tr>\n",
       "    <tr>\n",
       "      <th>25%</th>\n",
       "      <td>0.479429</td>\n",
       "      <td>0.149764</td>\n",
       "      <td>0.510638</td>\n",
       "      <td>0.267123</td>\n",
       "    </tr>\n",
       "    <tr>\n",
       "      <th>50%</th>\n",
       "      <td>0.542485</td>\n",
       "      <td>0.269797</td>\n",
       "      <td>0.691489</td>\n",
       "      <td>0.363014</td>\n",
       "    </tr>\n",
       "    <tr>\n",
       "      <th>75%</th>\n",
       "      <td>0.623114</td>\n",
       "      <td>0.420672</td>\n",
       "      <td>0.808511</td>\n",
       "      <td>0.449772</td>\n",
       "    </tr>\n",
       "    <tr>\n",
       "      <th>max</th>\n",
       "      <td>1.000000</td>\n",
       "      <td>1.000000</td>\n",
       "      <td>1.000000</td>\n",
       "      <td>1.000000</td>\n",
       "    </tr>\n",
       "  </tbody>\n",
       "</table>\n",
       "</div>"
      ],
      "text/plain": [
       "               RM       LSTAT     PTRATIO        MEDV\n",
       "count  489.000000  489.000000  489.000000  489.000000\n",
       "mean     0.553915    0.304519    0.629422    0.379803\n",
       "std      0.133068    0.196777    0.224603    0.179757\n",
       "min      0.000000    0.000000    0.000000    0.000000\n",
       "25%      0.479429    0.149764    0.510638    0.267123\n",
       "50%      0.542485    0.269797    0.691489    0.363014\n",
       "75%      0.623114    0.420672    0.808511    0.449772\n",
       "max      1.000000    1.000000    1.000000    1.000000"
      ]
     },
     "execution_count": 101,
     "metadata": {},
     "output_type": "execute_result"
    }
   ],
   "source": [
    "# Perform basic data frame exploratory analysis\n",
    "df.describe()"
   ]
  },
  {
   "cell_type": "markdown",
   "id": "2e4a9796",
   "metadata": {},
   "source": [
    "#### Get Info of Data Frame\n",
    "Here we are able to see that there are no null entries for the data frame. All four columns contain floating point values as well."
   ]
  },
  {
   "cell_type": "code",
   "execution_count": 102,
   "id": "320e30c9",
   "metadata": {},
   "outputs": [
    {
     "name": "stdout",
     "output_type": "stream",
     "text": [
      "<class 'pandas.core.frame.DataFrame'>\n",
      "RangeIndex: 489 entries, 0 to 488\n",
      "Data columns (total 4 columns):\n",
      " #   Column   Non-Null Count  Dtype  \n",
      "---  ------   --------------  -----  \n",
      " 0   RM       489 non-null    float64\n",
      " 1   LSTAT    489 non-null    float64\n",
      " 2   PTRATIO  489 non-null    float64\n",
      " 3   MEDV     489 non-null    float64\n",
      "dtypes: float64(4)\n",
      "memory usage: 15.4 KB\n"
     ]
    }
   ],
   "source": [
    "df.info()"
   ]
  },
  {
   "cell_type": "markdown",
   "id": "8e96a125",
   "metadata": {},
   "source": [
    "## Data Preparation\n",
    "The below few cells will scale and split the data frame to prepare it to be fed into our ANN."
   ]
  },
  {
   "cell_type": "markdown",
   "id": "0c9f74c0",
   "metadata": {},
   "source": [
    "##### Scaling Data Frame\n",
    "Here we sort and normalize the data frame columms"
   ]
  },
  {
   "cell_type": "code",
   "execution_count": 104,
   "id": "157886dc",
   "metadata": {},
   "outputs": [
    {
     "data": {
      "text/html": [
       "<div>\n",
       "<style scoped>\n",
       "    .dataframe tbody tr th:only-of-type {\n",
       "        vertical-align: middle;\n",
       "    }\n",
       "\n",
       "    .dataframe tbody tr th {\n",
       "        vertical-align: top;\n",
       "    }\n",
       "\n",
       "    .dataframe thead th {\n",
       "        text-align: right;\n",
       "    }\n",
       "</style>\n",
       "<table border=\"1\" class=\"dataframe\">\n",
       "  <thead>\n",
       "    <tr style=\"text-align: right;\">\n",
       "      <th></th>\n",
       "      <th>RM</th>\n",
       "      <th>LSTAT</th>\n",
       "      <th>PTRATIO</th>\n",
       "      <th>MEDV</th>\n",
       "    </tr>\n",
       "  </thead>\n",
       "  <tbody>\n",
       "    <tr>\n",
       "      <th>0</th>\n",
       "      <td>0.623114</td>\n",
       "      <td>0.083356</td>\n",
       "      <td>0.287234</td>\n",
       "      <td>0.433790</td>\n",
       "    </tr>\n",
       "    <tr>\n",
       "      <th>1</th>\n",
       "      <td>0.591276</td>\n",
       "      <td>0.198944</td>\n",
       "      <td>0.553191</td>\n",
       "      <td>0.378995</td>\n",
       "    </tr>\n",
       "    <tr>\n",
       "      <th>2</th>\n",
       "      <td>0.749225</td>\n",
       "      <td>0.056960</td>\n",
       "      <td>0.553191</td>\n",
       "      <td>0.678082</td>\n",
       "    </tr>\n",
       "    <tr>\n",
       "      <th>3</th>\n",
       "      <td>0.710564</td>\n",
       "      <td>0.026674</td>\n",
       "      <td>0.648936</td>\n",
       "      <td>0.648402</td>\n",
       "    </tr>\n",
       "    <tr>\n",
       "      <th>4</th>\n",
       "      <td>0.741369</td>\n",
       "      <td>0.093081</td>\n",
       "      <td>0.648936</td>\n",
       "      <td>0.712329</td>\n",
       "    </tr>\n",
       "  </tbody>\n",
       "</table>\n",
       "</div>"
      ],
      "text/plain": [
       "         RM     LSTAT   PTRATIO      MEDV\n",
       "0  0.623114  0.083356  0.287234  0.433790\n",
       "1  0.591276  0.198944  0.553191  0.378995\n",
       "2  0.749225  0.056960  0.553191  0.678082\n",
       "3  0.710564  0.026674  0.648936  0.648402\n",
       "4  0.741369  0.093081  0.648936  0.712329"
      ]
     },
     "execution_count": 104,
     "metadata": {},
     "output_type": "execute_result"
    }
   ],
   "source": [
    "# initialize min-max scaler\n",
    "mm_scaler = MinMaxScaler()\n",
    "\n",
    "column_names = list(df.columns)\n",
    "\n",
    "# Transform all attributes\n",
    "df[column_names] = mm_scaler.fit_transform(df[column_names])\n",
    "df.sort_index(inplace=True)\n",
    "df.head()"
   ]
  },
  {
   "cell_type": "markdown",
   "id": "3878776d",
   "metadata": {},
   "source": [
    "##### Verifying Columns have been scaled\n",
    "Describing the data below we see that the min and max of each column should be 0 and 1 respectively."
   ]
  },
  {
   "cell_type": "code",
   "execution_count": 105,
   "id": "702a2943",
   "metadata": {
    "scrolled": true
   },
   "outputs": [
    {
     "data": {
      "text/html": [
       "<div>\n",
       "<style scoped>\n",
       "    .dataframe tbody tr th:only-of-type {\n",
       "        vertical-align: middle;\n",
       "    }\n",
       "\n",
       "    .dataframe tbody tr th {\n",
       "        vertical-align: top;\n",
       "    }\n",
       "\n",
       "    .dataframe thead th {\n",
       "        text-align: right;\n",
       "    }\n",
       "</style>\n",
       "<table border=\"1\" class=\"dataframe\">\n",
       "  <thead>\n",
       "    <tr style=\"text-align: right;\">\n",
       "      <th></th>\n",
       "      <th>RM</th>\n",
       "      <th>LSTAT</th>\n",
       "      <th>PTRATIO</th>\n",
       "      <th>MEDV</th>\n",
       "    </tr>\n",
       "  </thead>\n",
       "  <tbody>\n",
       "    <tr>\n",
       "      <th>count</th>\n",
       "      <td>489.000000</td>\n",
       "      <td>489.000000</td>\n",
       "      <td>489.000000</td>\n",
       "      <td>489.000000</td>\n",
       "    </tr>\n",
       "    <tr>\n",
       "      <th>mean</th>\n",
       "      <td>0.553915</td>\n",
       "      <td>0.304519</td>\n",
       "      <td>0.629422</td>\n",
       "      <td>0.379803</td>\n",
       "    </tr>\n",
       "    <tr>\n",
       "      <th>std</th>\n",
       "      <td>0.133068</td>\n",
       "      <td>0.196777</td>\n",
       "      <td>0.224603</td>\n",
       "      <td>0.179757</td>\n",
       "    </tr>\n",
       "    <tr>\n",
       "      <th>min</th>\n",
       "      <td>0.000000</td>\n",
       "      <td>0.000000</td>\n",
       "      <td>0.000000</td>\n",
       "      <td>0.000000</td>\n",
       "    </tr>\n",
       "    <tr>\n",
       "      <th>25%</th>\n",
       "      <td>0.479429</td>\n",
       "      <td>0.149764</td>\n",
       "      <td>0.510638</td>\n",
       "      <td>0.267123</td>\n",
       "    </tr>\n",
       "    <tr>\n",
       "      <th>50%</th>\n",
       "      <td>0.542485</td>\n",
       "      <td>0.269797</td>\n",
       "      <td>0.691489</td>\n",
       "      <td>0.363014</td>\n",
       "    </tr>\n",
       "    <tr>\n",
       "      <th>75%</th>\n",
       "      <td>0.623114</td>\n",
       "      <td>0.420672</td>\n",
       "      <td>0.808511</td>\n",
       "      <td>0.449772</td>\n",
       "    </tr>\n",
       "    <tr>\n",
       "      <th>max</th>\n",
       "      <td>1.000000</td>\n",
       "      <td>1.000000</td>\n",
       "      <td>1.000000</td>\n",
       "      <td>1.000000</td>\n",
       "    </tr>\n",
       "  </tbody>\n",
       "</table>\n",
       "</div>"
      ],
      "text/plain": [
       "               RM       LSTAT     PTRATIO        MEDV\n",
       "count  489.000000  489.000000  489.000000  489.000000\n",
       "mean     0.553915    0.304519    0.629422    0.379803\n",
       "std      0.133068    0.196777    0.224603    0.179757\n",
       "min      0.000000    0.000000    0.000000    0.000000\n",
       "25%      0.479429    0.149764    0.510638    0.267123\n",
       "50%      0.542485    0.269797    0.691489    0.363014\n",
       "75%      0.623114    0.420672    0.808511    0.449772\n",
       "max      1.000000    1.000000    1.000000    1.000000"
      ]
     },
     "execution_count": 105,
     "metadata": {},
     "output_type": "execute_result"
    }
   ],
   "source": [
    "df.describe()"
   ]
  },
  {
   "cell_type": "code",
   "execution_count": 106,
   "id": "28e4bd65",
   "metadata": {},
   "outputs": [
    {
     "data": {
      "text/html": [
       "<div>\n",
       "<style scoped>\n",
       "    .dataframe tbody tr th:only-of-type {\n",
       "        vertical-align: middle;\n",
       "    }\n",
       "\n",
       "    .dataframe tbody tr th {\n",
       "        vertical-align: top;\n",
       "    }\n",
       "\n",
       "    .dataframe thead th {\n",
       "        text-align: right;\n",
       "    }\n",
       "</style>\n",
       "<table border=\"1\" class=\"dataframe\">\n",
       "  <thead>\n",
       "    <tr style=\"text-align: right;\">\n",
       "      <th></th>\n",
       "      <th>RM</th>\n",
       "      <th>LSTAT</th>\n",
       "      <th>PTRATIO</th>\n",
       "      <th>MEDV</th>\n",
       "    </tr>\n",
       "  </thead>\n",
       "  <tbody>\n",
       "    <tr>\n",
       "      <th>RM</th>\n",
       "      <td>1.000000</td>\n",
       "      <td>-0.612033</td>\n",
       "      <td>-0.304559</td>\n",
       "      <td>0.697209</td>\n",
       "    </tr>\n",
       "    <tr>\n",
       "      <th>LSTAT</th>\n",
       "      <td>-0.612033</td>\n",
       "      <td>1.000000</td>\n",
       "      <td>0.360445</td>\n",
       "      <td>-0.760670</td>\n",
       "    </tr>\n",
       "    <tr>\n",
       "      <th>PTRATIO</th>\n",
       "      <td>-0.304559</td>\n",
       "      <td>0.360445</td>\n",
       "      <td>1.000000</td>\n",
       "      <td>-0.519034</td>\n",
       "    </tr>\n",
       "    <tr>\n",
       "      <th>MEDV</th>\n",
       "      <td>0.697209</td>\n",
       "      <td>-0.760670</td>\n",
       "      <td>-0.519034</td>\n",
       "      <td>1.000000</td>\n",
       "    </tr>\n",
       "  </tbody>\n",
       "</table>\n",
       "</div>"
      ],
      "text/plain": [
       "               RM     LSTAT   PTRATIO      MEDV\n",
       "RM       1.000000 -0.612033 -0.304559  0.697209\n",
       "LSTAT   -0.612033  1.000000  0.360445 -0.760670\n",
       "PTRATIO -0.304559  0.360445  1.000000 -0.519034\n",
       "MEDV     0.697209 -0.760670 -0.519034  1.000000"
      ]
     },
     "execution_count": 106,
     "metadata": {},
     "output_type": "execute_result"
    }
   ],
   "source": [
    "df.corr()"
   ]
  },
  {
   "cell_type": "code",
   "execution_count": 157,
   "id": "536c44af",
   "metadata": {},
   "outputs": [
    {
     "data": {
      "text/plain": [
       "<AxesSubplot:>"
      ]
     },
     "execution_count": 157,
     "metadata": {},
     "output_type": "execute_result"
    },
    {
     "data": {
      "image/png": "[encoded data removed]",
      "text/plain": [
       "<Figure size 288x288 with 2 Axes>"
      ]
     },
     "metadata": {
      "needs_background": "light"
     },
     "output_type": "display_data"
    }
   ],
   "source": [
    "plt.figure(figsize=(4,4))\n",
    "sns.heatmap(abs(df.corr()), cmap=\"coolwarm\")"
   ]
  },
  {
   "cell_type": "markdown",
   "id": "3a21794c",
   "metadata": {},
   "source": [
    "##### Splitting Independant and Dependant Variables\n",
    "Here we want to break our data frame into our independant and dependant variables. MEDV is the dependant variable, which seems to have some strong correlation with LSTAT and RM, and less correlation with the PTRATIO."
   ]
  },
  {
   "cell_type": "code",
   "execution_count": 158,
   "id": "6bb72af2",
   "metadata": {},
   "outputs": [],
   "source": [
    "# Make sure our global variable is in the data frame first\n",
    "assert(targetColumnName in df.columns)\n",
    "\n",
    "X = df.drop(targetColumnName, axis=1)\n",
    "y = df[targetColumnName]\n",
    "\n",
    "# Break flow of execution if we do not have exactly 3 independant variables or if any rows have somehow gone missing\n",
    "assert(X.shape[0] == 489 and X.shape[1] == 3)\n",
    "assert(len(y) == 489)"
   ]
  },
  {
   "cell_type": "markdown",
   "id": "c3107e65",
   "metadata": {},
   "source": [
    "##### Test/Train Splitting\n",
    "The below cell splits the data into test and training"
   ]
  },
  {
   "cell_type": "code",
   "execution_count": 159,
   "id": "a1d6fe93",
   "metadata": {},
   "outputs": [],
   "source": [
    "# Split the training and test data from our global test size\n",
    "X_train, X_test, y_train, y_test = train_test_split(X, y, test_size=testSize, shuffle = True, random_state=1)\n",
    "\n",
    "# Break flow of execution of our test and training data is not behaving correctly\n",
    "assert(X_train.shape[0] > 0 and X_train.shape[1] > 0)\n",
    "assert(X_test.shape[0] > 0 and X_test.shape[1] > 0)\n",
    "assert(len(y_train) > 0 and len(y_test) > 0)"
   ]
  },
  {
   "cell_type": "markdown",
   "id": "82178ea7",
   "metadata": {},
   "source": [
    "## Building ANN"
   ]
  },
  {
   "cell_type": "markdown",
   "id": "78c35b70",
   "metadata": {},
   "source": [
    "##### Create the Model\n",
    "Here we use an MLP regressor to predict the independant variable"
   ]
  },
  {
   "cell_type": "code",
   "execution_count": 160,
   "id": "e54805ad",
   "metadata": {},
   "outputs": [],
   "source": [
    "# Create the model according to our specifications\n",
    "mlp = MLPRegressor()\n",
    "\n",
    "# Break flow of execution if our model doesn't run well\n",
    "assert(mlp)"
   ]
  },
  {
   "cell_type": "markdown",
   "id": "7559d7dd",
   "metadata": {},
   "source": [
    "##### Fit the Model\n",
    "Here we use an MPL regressor to predict the independant variable. We give it a random seed and plenty of iterations to run through because this particular dataset isn't too intensive. \n",
    "\n",
    "We set the hidden_layer_sizes to 5 for now. "
   ]
  },
  {
   "cell_type": "code",
   "execution_count": 161,
   "id": "ae68e6d1",
   "metadata": {},
   "outputs": [],
   "source": [
    "# Fitting the model\n",
    "mlp = mlp.fit(X_train,y_train)\n",
    "\n",
    "# Prediction to Test Dataset\n",
    "y_predmlp = mlp.predict(X_test)\n",
    "\n",
    "# Break flow of execution if somehow our predictions don't match our test labels\n",
    "assert(len(y_predmlp) == len(y_test))"
   ]
  },
  {
   "cell_type": "markdown",
   "id": "afed0cee",
   "metadata": {},
   "source": [
    "#### Neural Network Training Data\n",
    "The below snippet should print out the training data that the model ran through if digging through the verbose training trace is too cumbersome."
   ]
  },
  {
   "cell_type": "code",
   "execution_count": 162,
   "id": "961a9694",
   "metadata": {},
   "outputs": [
    {
     "name": "stdout",
     "output_type": "stream",
     "text": [
      "Number of Layers = 3\n",
      "Number of Iterations = 97\n",
      "Current loss computed with the loss function = 0.004888826943482964\n"
     ]
    }
   ],
   "source": [
    "print('Number of Layers =', mlp.n_layers_)\n",
    "print('Number of Iterations =', mlp.n_iter_)\n",
    "print('Current loss computed with the loss function =', mlp.loss_)"
   ]
  },
  {
   "cell_type": "markdown",
   "id": "de24fff7",
   "metadata": {},
   "source": [
    "## Scoring the Model"
   ]
  },
  {
   "cell_type": "markdown",
   "id": "82f5dbc1",
   "metadata": {},
   "source": [
    "R^{2}"
   ]
  },
  {
   "cell_type": "code",
   "execution_count": 163,
   "id": "79c6ec46",
   "metadata": {},
   "outputs": [
    {
     "data": {
      "text/plain": [
       "0.7293637540333413"
      ]
     },
     "execution_count": 163,
     "metadata": {},
     "output_type": "execute_result"
    }
   ],
   "source": [
    "# Get R^2\n",
    "mlp.score(X_test, y_test)"
   ]
  },
  {
   "cell_type": "code",
   "execution_count": 164,
   "id": "69f01bd7",
   "metadata": {},
   "outputs": [
    {
     "data": {
      "text/plain": [
       "0.004096827298846486"
      ]
     },
     "execution_count": 164,
     "metadata": {},
     "output_type": "execute_result"
    }
   ],
   "source": [
    "metrics.mean_squared_log_error(y_test, y_predmlp)"
   ]
  },
  {
   "cell_type": "code",
   "execution_count": 165,
   "id": "bb052931",
   "metadata": {},
   "outputs": [
    {
     "data": {
      "text/plain": [
       "<AxesSubplot:xlabel='MEDV'>"
      ]
     },
     "execution_count": 165,
     "metadata": {},
     "output_type": "execute_result"
    },
    {
     "data": {
      "image/png": "[encoded data removed]",
      "text/plain": [
       "<Figure size 864x864 with 1 Axes>"
      ]
     },
     "metadata": {
      "needs_background": "light"
     },
     "output_type": "display_data"
    }
   ],
   "source": [
    "plt.figure(figsize=(12,12))\n",
    "sns.regplot(x = y_test, y = y_predmlp, fit_reg=True, scatter_kws={\"s\": 100})"
   ]
  },
  {
   "cell_type": "code",
   "execution_count": null,
   "id": "fe1063d9",
   "metadata": {},
   "outputs": [],
   "source": []
  }
 ],
 "metadata": {
  "kernelspec": {
   "display_name": "Python 3 (ipykernel)",
   "language": "python",
   "name": "python3"
  },
  "language_info": {
   "codemirror_mode": {
    "name": "ipython",
    "version": 3
   },
   "file_extension": ".py",
   "mimetype": "text/x-python",
   "name": "python",
   "nbconvert_exporter": "python",
   "pygments_lexer": "ipython3",
   "version": "3.8.10"
  }
 },
 "nbformat": 4,
 "nbformat_minor": 5
}
